{
 "cells": [
  {
   "cell_type": "markdown",
   "metadata": {
    "id": "kLZ_vCeE0lsM"
   },
   "source": [
    "### `Problem 1:` Combine two lists index-wise(columns wise)\n",
    "\n",
    "Write a program to add two lists index-wise. Create a new list that contains the 0th index item from both the list, then the 1st index item, and so on till the last element. any leftover items will get added at the end of the new list.\n",
    "\n",
    "`Given List:`\n",
    "```\n",
    "list1 = [\"M\", \"na\", \"i\", \"May\"]\n",
    "list2 = [\"y\", \"me\", \"s\", \"ank\"]\n",
    "```\n",
    "\n",
    "`Output:`\n",
    "```\n",
    "[['M','y'], ['na', me'], ['i', 's'], ['May', 'ank']]\n",
    "```"
   ]
  },
  {
   "cell_type": "code",
   "execution_count": 18,
   "metadata": {
    "id": "cDO3Yv6p0nnG"
   },
   "outputs": [
    {
     "data": {
      "text/plain": [
       "[['M', 'y'], ['na', 'me'], ['i', 's'], ['May', 'ank']]"
      ]
     },
     "execution_count": 18,
     "metadata": {},
     "output_type": "execute_result"
    }
   ],
   "source": [
    "# Write code here\n",
    "list1 = [\"M\", \"na\", \"i\", \"May\"]\n",
    "list2 = [\"y\", \"me\", \"s\", \"ank\"]\n",
    "\n",
    "new_list = []\n",
    "[[i,j] for i,j in list(zip(list1,list2))] "
   ]
  },
  {
   "cell_type": "markdown",
   "metadata": {
    "id": "bnRwRgf_0qLu"
   },
   "source": [
    "### `Problem 2:` Add new item to list after a specified item\n",
    "Write a program to add item 7000 after 6000 in the following Python List\n",
    "```\n",
    "list1 = [10, 20, [300, 400, [5000, 6000], 500], 30, 40]\n",
    "```\n",
    "`Output:`\n",
    "```\n",
    "[10, 20, [300, 400, [5000, 6000, 7000], 500], 30, 40]\n",
    "```"
   ]
  },
  {
   "cell_type": "code",
   "execution_count": 23,
   "metadata": {
    "id": "yW5lLPns00q9"
   },
   "outputs": [
    {
     "name": "stdout",
     "output_type": "stream",
     "text": [
      "[10, 20, [300, 400, [5000, 6000, 7000], 500], 30, 40]\n"
     ]
    }
   ],
   "source": [
    "# Write code here\n",
    "\n",
    "list1 = [10, 20, [300, 400, [5000, 6000], 500], 30, 40]\n",
    "\n",
    "list1[2][2].append(7000)\n",
    "print(list1)"
   ]
  },
  {
   "cell_type": "markdown",
   "metadata": {
    "id": "w7fC8oHk02fH"
   },
   "source": [
    "### `Problem 3:` Update no of items available\n",
    "\n",
    "Suppose you are given a list of candy and another list of same size representing no of items of respective candy.\n",
    "\n",
    "i.e -  \n",
    "```\n",
    "candy_list = ['Jelly Belly','Kit Kat','Double Bubble','Milky Way','Three Musketeers']\n",
    "no_of_items = [10, 20, 34, 74, 32]\n",
    "```\n",
    "\n",
    "Write a program to show no. of items of each candy type.\n",
    "\n",
    "`Output:`\n",
    "\n",
    "```\n",
    "Jelly Belly-10\n",
    "Kit Kat-20\n",
    "Double Bubble-34\n",
    "Milky Way-74\n",
    "Three Musketeers-32\n",
    "\n",
    "```"
   ]
  },
  {
   "cell_type": "code",
   "execution_count": 26,
   "metadata": {
    "id": "gg5JEX1a09q8"
   },
   "outputs": [
    {
     "name": "stdout",
     "output_type": "stream",
     "text": [
      "Jelly Belly - 10\n",
      "Kit Kat - 20\n",
      "Double Bubble - 34\n",
      "Milky Way - 74\n",
      "Three Musketeers - 32\n"
     ]
    }
   ],
   "source": [
    "# Write code here\n",
    "\n",
    "candy_list = ['Jelly Belly','Kit Kat','Double Bubble','Milky Way','Three Musketeers']\n",
    "no_of_items = [10, 20, 34, 74, 32]\n",
    "\n",
    "list = {i:j for i,j in list(zip(candy_list,no_of_items))}\n",
    "\n",
    "\n",
    "for i in list:\n",
    "    print(i,'-',list[i])"
   ]
  },
  {
   "cell_type": "markdown",
   "metadata": {
    "id": "mFGZAvnB1D3N"
   },
   "source": [
    "### `Problem 4:` Running Sum on list\n",
    "Write a program to print a list after performing running sum on it.\n",
    "\n",
    "i.e:\n",
    "\n",
    "`Input:`\n",
    "```\n",
    "list1 = [1, 2, 3, 4, 5, 6]\n",
    "```\n",
    "`Output:`\n",
    "```\n",
    "[1, 3, 6, 10, 15, 21]\n",
    "```"
   ]
  },
  {
   "cell_type": "code",
   "execution_count": 29,
   "metadata": {
    "id": "8LPS6DaD1FTs"
   },
   "outputs": [
    {
     "name": "stdout",
     "output_type": "stream",
     "text": [
      "[1, 3, 6, 10, 15, 21]\n"
     ]
    }
   ],
   "source": [
    "# Write code here\n",
    "\n",
    "list1 = [1, 2, 3, 4, 5, 6]\n",
    "\n",
    "curr = 0\n",
    "new_list = []\n",
    "for i in list1:\n",
    "    curr+=i\n",
    "    new_list.append(curr)\n",
    "\n",
    "print(new_list)\n",
    "    "
   ]
  },
  {
   "cell_type": "markdown",
   "metadata": {
    "id": "2ztcZ-EW1HEU"
   },
   "source": [
    "### `Problem 5:` You are given a list of integers. You are asked to make a list by running through elements of the list by adding all elements greater and itself.\n",
    "\n",
    "i.e. Say given list is `[2,4,6,10,1]`\n",
    "resultant list will be `[22,20,16,23]`.\n",
    "\n",
    "For 1st element `2` ->> these are greater `(4+6+10)` values and `2` itself so on adding becomes `22`.\n",
    "\n",
    "For 2nd element `4` ->> greater elements are `(6, 10)` and `4` itself, so on adding `20`\n",
    "\n",
    "like wise for all other elememts.\n",
    "\n",
    "`[2,4,6,10,1]`-->`[22,20,16,10,23]`\n",
    "\n",
    "\n"
   ]
  },
  {
   "cell_type": "code",
   "execution_count": 1,
   "metadata": {
    "id": "UJuWqzj31UD2"
   },
   "outputs": [
    {
     "name": "stdout",
     "output_type": "stream",
     "text": [
      "[0]\n"
     ]
    }
   ],
   "source": [
    "# Not completed yet\n",
    "\n",
    "\n",
    "\n",
    "list1 = [2,4,6,10,1]\n",
    "n = len(list1)\n",
    "new_list = []\n",
    "\n",
    "for i in range(n):\n",
    "\n",
    "    curr = 0\n",
    "\n",
    "for j in range(i + 1, n):\n",
    "    if list1[i] > list1[j]:\n",
    "        curr+=list1[j]\n",
    "\n",
    "    curr+=list1[i]\n",
    "\n",
    "new_list.append(curr)\n",
    "\n",
    "print(new_list)"
   ]
  },
  {
   "cell_type": "code",
   "execution_count": null,
   "metadata": {},
   "outputs": [],
   "source": []
  },
  {
   "cell_type": "markdown",
   "metadata": {
    "id": "c9H6tYTx1ZYo"
   },
   "source": [
    "### `Problem 6:` Find list of common unique items from two list. and show in increasing order\n",
    "\n",
    "`Input`\n",
    "\n",
    "```\n",
    "num1 = [23,45,67,78,89,34]\n",
    "num2 = [34,89,55,56,39,67]\n",
    "```\n",
    "\n",
    "`Output:`\n",
    "```\n",
    "[34, 67, 89]\n",
    "```\n"
   ]
  },
  {
   "cell_type": "code",
   "execution_count": 36,
   "metadata": {
    "id": "dDxdi7eE1e1W"
   },
   "outputs": [
    {
     "data": {
      "text/plain": [
       "[34, 67, 89]"
      ]
     },
     "execution_count": 36,
     "metadata": {},
     "output_type": "execute_result"
    }
   ],
   "source": [
    "# Write code here\n",
    "\n",
    "num1 = set([23,45,67,78,89,34])\n",
    "num2 = set([34,89,55,56,39,67])\n",
    "\n",
    "c = num1.intersection(num2)\n",
    "\n",
    "c = sorted(c)\n",
    "c"
   ]
  },
  {
   "cell_type": "markdown",
   "metadata": {
    "id": "i3Izok2i1gRD"
   },
   "source": [
    "### `Problem 7:` Sort a list of alphanumeric strings based on product value of numeric character in it. If in any string there is no numeric character take it's product value as 1.\n",
    "\n",
    "`Input:`\n",
    "```\n",
    "['1ac21', '23fg', '456', '098d','1','kls']\n",
    "```\n",
    "\n",
    "`Output:`\n",
    "```\n",
    "['456', '23fg', '1ac21', '1', 'kls', '098d']\n",
    "\n",
    "```"
   ]
  },
  {
   "cell_type": "code",
   "execution_count": 39,
   "metadata": {
    "id": "eiXSanG11oq6"
   },
   "outputs": [],
   "source": [
    "# Write code here\n",
    "\n"
   ]
  },
  {
   "cell_type": "markdown",
   "metadata": {
    "id": "McMaNSpB1zJB"
   },
   "source": [
    "### `Problem 8:` Split String of list on K character.\n",
    "\n",
    "**Example :**\n",
    "\n",
    "Input:\n",
    "```bash\n",
    "['Numpy Pandas', 'is important', 'for machine-learning.']\n",
    "```\n",
    "\n",
    "Output:\n",
    "```bash\n",
    "['Numpy', 'Pandas', 'is', 'important', 'for', 'machine-learning.']\n",
    "\n",
    "```"
   ]
  },
  {
   "cell_type": "code",
   "execution_count": 42,
   "metadata": {
    "id": "rLg6AUhf14wI"
   },
   "outputs": [
    {
     "name": "stdout",
     "output_type": "stream",
     "text": [
      "['Numpy', 'Pandas', 'is', 'important', 'for', 'machine-learning.']\n"
     ]
    }
   ],
   "source": [
    "# Write code here\n",
    "num = ['Numpy Pandas', 'is important', 'for machine-learning.']\n",
    "result = []\n",
    "for i in num:\n",
    "    result.extend(i.split(' '))\n",
    "\n",
    "print(result)\n"
   ]
  },
  {
   "cell_type": "markdown",
   "metadata": {
    "id": "ebqIC0Xa16dG"
   },
   "source": [
    "### `Problem 9:` Convert Character Matrix to single String using list comprehension.\n",
    "\n",
    "**Example 1:**\n",
    "\n",
    "Input:\n",
    "```bash\n",
    "[['d', 'a', 't', 'a'], ['i', 's'], ['e', 'v', 'e', 'r', 'y', 'w', 'h', 'e', 'r', 'e']]\n",
    "```\n",
    "\n",
    "Output:\n",
    "```bash\n",
    "data is everywhere\n",
    "```"
   ]
  },
  {
   "cell_type": "code",
   "execution_count": 45,
   "metadata": {
    "id": "KLKxzyZf2BLr"
   },
   "outputs": [
    {
     "data": {
      "text/plain": [
       "'data is everywhere'"
      ]
     },
     "execution_count": 45,
     "metadata": {},
     "output_type": "execute_result"
    }
   ],
   "source": [
    "# Write code here\n",
    "list = [['d', 'a', 't', 'a'], ['i', 's'], ['e', 'v', 'e', 'r', 'y', 'w', 'h', 'e', 'r', 'e']]\n",
    "\n",
    "result = ' '.join([''.join(i) for i in list])\n",
    "result"
   ]
  },
  {
   "cell_type": "markdown",
   "metadata": {
    "id": "0v1Z3Snp2DAm"
   },
   "source": [
    "### `Problem 10:` Add Space between Potential Words.\n",
    "\n",
    "**Example:**\n",
    "\n",
    "Input:\n",
    "\n",
    "```bash\n",
    "['pythonIs', 'bestFor', 'dataScience']\n",
    "```\n",
    "\n",
    "Output:\n",
    "```bash\n",
    "['python Is', 'best For', 'data Science']\n",
    "```"
   ]
  },
  {
   "cell_type": "code",
   "execution_count": 311,
   "metadata": {
    "id": "pltvqSXa2IxP"
   },
   "outputs": [
    {
     "name": "stdout",
     "output_type": "stream",
     "text": [
      "['python,Is best,For data,Science']\n"
     ]
    }
   ],
   "source": [
    "# Code here\n",
    "\n",
    "list = ['pythonIs', 'bestFor', 'dataScience']\n",
    "output = []\n",
    "\n",
    "b = ' '.join(list)\n",
    "space_word = []\n",
    "for i in b:\n",
    "    if i.isupper(): #and i > 0:\n",
    "        space_word.append(',')\n",
    "    space_word.append(i)\n",
    "    #output.append(i\n",
    "output.append(''.join(space_word))\n",
    "print(output)"
   ]
  },
  {
   "cell_type": "markdown",
   "metadata": {
    "id": "tnmBk1M52KXW"
   },
   "source": [
    "### `Problem 11:` Write a program that can perform union operation on 2 lists\n",
    "\n",
    "**Example:**\n",
    "\n",
    "Input:\n",
    "\n",
    "```bash\n",
    "[1,2,3,4,5,1]\n",
    "[2,3,5,7,8]\n",
    "```\n",
    "\n",
    "Output:\n",
    "```bash\n",
    "[1,2,3,4,5,7,8]\n",
    "```"
   ]
  },
  {
   "cell_type": "code",
   "execution_count": 47,
   "metadata": {
    "id": "u0AgIToU2-Ht"
   },
   "outputs": [
    {
     "name": "stdout",
     "output_type": "stream",
     "text": [
      "[1, 2, 3, 4, 5, 7, 8]\n"
     ]
    }
   ],
   "source": [
    "# Write code here\n",
    "a = [1,2,3,4,5,1]\n",
    "b = [2,3,5,7,8]\n",
    "# new_list = []\n",
    "\n",
    "\n",
    "for i in a:\n",
    "    if i not in b:\n",
    "        b.append(i)\n",
    "b = sorted(b)\n",
    "print(b)"
   ]
  },
  {
   "cell_type": "markdown",
   "metadata": {
    "id": "Yt8x67Ch3Ow1"
   },
   "source": [
    "### `Problem 12:` Write a program that can find the max number of each row of a matrix\n",
    "\n",
    "**Example:**\n",
    "\n",
    "Input:\n",
    "\n",
    "```bash\n",
    "[[1,2,3],[4,5,6],[7,8,9]]\n",
    "```\n",
    "\n",
    "Output:\n",
    "```bash\n",
    "[3,6,9]\n",
    "```"
   ]
  },
  {
   "cell_type": "code",
   "execution_count": 53,
   "metadata": {
    "id": "7QopAaAI3noh"
   },
   "outputs": [
    {
     "name": "stdout",
     "output_type": "stream",
     "text": [
      "[3, 6, 9]\n"
     ]
    }
   ],
   "source": [
    "# Write code here\n",
    "list_f = [[1,2,3],[4,5,6],[7,8,9]]\n",
    "max_nums = []\n",
    "for i in list_f:\n",
    "    max_num = i[0]\n",
    "    for j in i:\n",
    "        if j > max_num:\n",
    "            max_num = j\n",
    "    max_nums.append(max_num)\n",
    "print(max_nums)"
   ]
  },
  {
   "cell_type": "markdown",
   "metadata": {
    "id": "DBZlUmnt3pGT"
   },
   "source": [
    "### `Problem 13:` Write a list comprehension to print the following matrix\n",
    "\n",
    "[[0, 1, 2], [3, 4, 5], [6, 7, 8]]"
   ]
  },
  {
   "cell_type": "code",
   "execution_count": 137,
   "metadata": {
    "id": "Ip4e8M-S356h"
   },
   "outputs": [
    {
     "data": {
      "text/plain": [
       "[[0, 0, 0], [1, 1, 1], [2, 2, 2]]"
      ]
     },
     "execution_count": 137,
     "metadata": {},
     "output_type": "execute_result"
    }
   ],
   "source": [
    "# Write code here\n",
    "[[i for j in range(0,3)] for i in range(0,3)]"
   ]
  },
  {
   "cell_type": "markdown",
   "metadata": {
    "id": "j3vTuFC737kG"
   },
   "source": [
    "### `Problem 14:` Write a list comprehension that can transpose a given matrix\n",
    "\n",
    "matrix = [<br>\n",
    "  [1,2,3],<br>\n",
    "          [4,5,6],<br>\n",
    "          [7,8,9]<br>]<br>\n",
    "\n",
    "[1, 4, 7]<br>\n",
    "[2, 5, 8]<br>\n",
    "[3, 6, 9]<br>"
   ]
  },
  {
   "cell_type": "code",
   "execution_count": 283,
   "metadata": {
    "id": "CcBNu0gk4XsR"
   },
   "outputs": [
    {
     "name": "stdout",
     "output_type": "stream",
     "text": [
      "[1, 4, 7]\n",
      "[2, 5, 8]\n",
      "[3, 6, 9]\n"
     ]
    }
   ],
   "source": [
    "# Write code here\n",
    "\n",
    "mtx = [[1,2,3],[4,5,6],[7,8,9]]\n",
    "\n",
    "transpose = [[r[i] for r in mtx] for i in range(len(mtx[0]))]\n",
    "\n",
    "for i in transpose:\n",
    "    print(i)"
   ]
  },
  {
   "cell_type": "markdown",
   "metadata": {
    "id": "wRkSWFb74eOt"
   },
   "source": [
    "### `Problem 15:` Write a list comprehension that can flatten a nested list\n",
    "\n",
    "Input<br>\n",
    "matrix = [<br>\n",
    "  [1,2,3],<br>\n",
    "          [4,5,6],<br>\n",
    "          [7,8,9]<br>]<br>\n",
    "\n",
    "Output:<br>\n",
    "[1, 2, 3, 4, 5, 6, 7, 8, 9]"
   ]
  },
  {
   "cell_type": "code",
   "execution_count": 279,
   "metadata": {
    "id": "jZGQ5el25HFr"
   },
   "outputs": [
    {
     "name": "stdout",
     "output_type": "stream",
     "text": [
      "[1, 2, 3, 4, 5, 6, 7, 8, 9]\n"
     ]
    }
   ],
   "source": [
    "# Write code here\n",
    "\n",
    "matrix = [\n",
    "[1,2,3],\n",
    "[4,5,6],\n",
    "[7,8,9]\n",
    "]\n",
    "\n",
    "new_list = [] \n",
    "for i in matrix:\n",
    "    for j in i:\n",
    "        new_list.append(j)\n",
    "\n",
    "print(new_list)"
   ]
  },
  {
   "cell_type": "code",
   "execution_count": 281,
   "metadata": {},
   "outputs": [
    {
     "data": {
      "text/plain": [
       "[1, 2, 3, 4, 5, 6, 7, 8, 9]"
      ]
     },
     "execution_count": 281,
     "metadata": {},
     "output_type": "execute_result"
    }
   ],
   "source": [
    "new_lsit = []\n",
    "[i for i in new_list] "
   ]
  }
 ],
 "metadata": {
  "colab": {
   "provenance": []
  },
  "kernelspec": {
   "display_name": "Python 3 (ipykernel)",
   "language": "python",
   "name": "python3"
  },
  "language_info": {
   "codemirror_mode": {
    "name": "ipython",
    "version": 3
   },
   "file_extension": ".py",
   "mimetype": "text/x-python",
   "name": "python",
   "nbconvert_exporter": "python",
   "pygments_lexer": "ipython3",
   "version": "3.11.7"
  }
 },
 "nbformat": 4,
 "nbformat_minor": 4
}
