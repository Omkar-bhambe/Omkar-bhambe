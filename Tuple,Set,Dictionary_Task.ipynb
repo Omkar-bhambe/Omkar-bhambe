{
 "cells": [
  {
   "cell_type": "markdown",
   "metadata": {
    "id": "limD5IAfl-tz"
   },
   "source": [
    "# Tuple\n"
   ]
  },
  {
   "cell_type": "markdown",
   "metadata": {
    "id": "nSTn3CjbmB7q"
   },
   "source": [
    "### `Q1:` Join Tuples if similar initial element\n",
    "While working with Python tuples, we can have a problem in which we need to perform concatenation of records from the similarity of initial element. This problem can have applications in data domains such as Data Science.\n",
    "\n",
    "For eg.\n",
    "```\n",
    "Input  : test_list = [(5, 6), (5, 7), (5, 8), (6, 10), (7, 13)]\n",
    "Output : [(5, 6, 7, 8), (6, 10), (7, 13)]\n",
    "```"
   ]
  },
  {
   "cell_type": "code",
   "execution_count": 83,
   "metadata": {
    "id": "hwVeEvH9rJzU"
   },
   "outputs": [
    {
     "data": {
      "text/plain": [
       "[(5, 6, 7, 8), (6, 10), (7, 13)]"
      ]
     },
     "execution_count": 83,
     "metadata": {},
     "output_type": "execute_result"
    }
   ],
   "source": [
    "# write your code here\n",
    "test_list = [(5, 6), (5, 7), (5, 8), (6, 10), (7, 13)]\n",
    "\n",
    "results = {}\n",
    "\n",
    "for i in test_list:\n",
    "    key = i[0]\n",
    "    if key in results:\n",
    "        results[key].extend(i[1:])\n",
    "    else:\n",
    "        results[key] = list(i)\n",
    "\n",
    "output = [tuple(results[key]) for key in results]\n",
    "\n",
    "output"
   ]
  },
  {
   "cell_type": "markdown",
   "metadata": {
    "id": "ujQpZOFFmeha"
   },
   "source": [
    "### `Q2:` Multiply Adjacent elements (both side) and take sum of right and left side multiplication result.\n",
    "\n",
    "\n",
    "For eg.\n",
    "```\n",
    "The original tuple : (1, 5, 7, 8, 10)\n",
    "Resultant tuple after multiplication :\n",
    "\n",
    "(1*5, 1*5+5*7, 7*8+7*5, 8*10+8*7, 10*8) -> (5, 40, 91, 136, 80)\n",
    "\n",
    "output-(5, 40, 91, 136, 80)\n",
    "```"
   ]
  },
  {
   "cell_type": "code",
   "execution_count": 191,
   "metadata": {
    "id": "N9lveEsArNVc"
   },
   "outputs": [
    {
     "name": "stdout",
     "output_type": "stream",
     "text": [
      "(15, 77, 120, 170)\n"
     ]
    }
   ],
   "source": [
    "# write your code here\n",
    "\n",
    "\n",
    "test_tuple = (1, 5, 7, 8, 10)\n",
    "\n",
    "res = tuple(i*j + j*(i+1) for i,j in zip(test_tuple,test_tuple[1:]))\n",
    "\n",
    "print(res)\n"
   ]
  },
  {
   "cell_type": "markdown",
   "metadata": {
    "id": "x0psnUiu2ZVp"
   },
   "source": [
    "### `Q3`: Check if tuples are same or not?\n",
    "Two tuples would be same if both tuples have same element at same index\n",
    "```\n",
    "t1 = (1,2,3,0)\n",
    "t2 = (0,1,2,3)\n",
    "\n",
    "t1 and t2 are not same\n",
    "```"
   ]
  },
  {
   "cell_type": "code",
   "execution_count": 9,
   "metadata": {
    "id": "JMVw9EhSrPEc"
   },
   "outputs": [
    {
     "name": "stdout",
     "output_type": "stream",
     "text": [
      "t1 and t2 are not same\n"
     ]
    }
   ],
   "source": [
    "# write your code here\n",
    "t1 = (1,2,3,0)\n",
    "t2 = (0,1,2,3)\n",
    "\n",
    "if t1 != t2:\n",
    "    print('t1 and t2 are not same')\n",
    "else:\n",
    "    print('t1 and t2 are same  ')"
   ]
  },
  {
   "cell_type": "markdown",
   "metadata": {
    "id": "aZ4rObHK4fCN"
   },
   "source": [
    "### `Q4`: Count no of tuples, list and set from a list\n",
    "```\n",
    "list1 = [{'hi', 'bye'},{'Teknowell', 'EduTech'},('a', 'b'),['hi', 'bye'],['a', 'b']]\n",
    "\n",
    "```\n",
    "`Output:`\n",
    "\n",
    "```\n",
    "List-2\n",
    "Set-2\n",
    "Tuples-1\n",
    "```"
   ]
  },
  {
   "cell_type": "code",
   "execution_count": 27,
   "metadata": {
    "id": "g_Bnuczk69tG"
   },
   "outputs": [
    {
     "name": "stdout",
     "output_type": "stream",
     "text": [
      "{'bye', 'hi'} : <class 'set'>\n",
      "{'EduTech', 'Teknowell'} : <class 'set'>\n",
      "('a', 'b') : <class 'tuple'>\n",
      "['hi', 'bye'] : <class 'list'>\n",
      "['a', 'b'] : <class 'list'>\n"
     ]
    }
   ],
   "source": [
    "# write your code here\n",
    "list1 = [{'hi', 'bye'},{'Teknowell', 'EduTech'},('a', 'b'),['hi', 'bye'],['a', 'b']]\n",
    "\n",
    "#set = []\n",
    "for i in list1:\n",
    "    print(i, ':',type(i))\n",
    "# Incomplete "
   ]
  },
  {
   "cell_type": "markdown",
   "metadata": {
    "id": "jInFNuit8hf1"
   },
   "source": [
    "### `Q5`: Shortlist Students for a Job role\n",
    "Ask user to input students record and store in tuples for each record. Then Ask user to input three things he wants in the candidate- Primary Skill, Higher Education, Year of Graduation.\n",
    "\n",
    "Show every students record in form of tuples if matches all required criteria.\n",
    "\n",
    "It is assumed that there will be only one primry skill.\n",
    "\n",
    "If no such candidate found, print `No such candidate`\n",
    "\n",
    "`Input:`\n",
    "```\n",
    "Enter No of records- 2\n",
    "Enter Details of student-1\n",
    "Enter Student name- Manohar\n",
    "Enter Higher Education- B.Tech\n",
    "Enter Primary Skill- Python\n",
    "Enter Year of Graduation- 2022\n",
    "Enter Details of student-2\n",
    "Enter Student name- Ponian\n",
    "Enter Higher Education- B.Sc.\n",
    "Enter Primary Skill- C++\n",
    "Enter Year of Graduation- 2020\n",
    "\n",
    "Enter Job Role Requirement\n",
    "Enter Skill- Python\n",
    "Enter Higher Education- B.Tech\n",
    "Enter Year of Graduation- 2022\n",
    "```\n",
    "\n",
    "`Output`\n",
    "```\n",
    "('Manohar', 'B.tech', 'Python', '2022')\n",
    "```\n"
   ]
  },
  {
   "cell_type": "code",
   "execution_count": 31,
   "metadata": {
    "id": "erh9QZaerSHk"
   },
   "outputs": [
    {
     "name": "stdin",
     "output_type": "stream",
     "text": [
      "Enter No. of records:  1\n",
      "Enter Details of student:  d\n",
      "Enter Student name:  sd\n",
      "Enter Higher Graduation:  sd\n",
      "Enter Primary Skill:  d\n",
      "Enter Year of Graduation:  sad\n"
     ]
    },
    {
     "name": "stdout",
     "output_type": "stream",
     "text": [
      "Enter Job Role Requirement\n"
     ]
    },
    {
     "name": "stdin",
     "output_type": "stream",
     "text": [
      "Enter Skill:  sd\n",
      "Enter Higher Education:  sd\n",
      "Enter Year of Graduation:  asd\n"
     ]
    },
    {
     "name": "stdout",
     "output_type": "stream",
     "text": [
      "No Such Candidate\n"
     ]
    }
   ],
   "source": [
    "No_of_rec = int(input('Enter No. of records: '))\n",
    "\n",
    "for i in range(No_of_rec):\n",
    "    Details_of_stu,Name,Higher_Edu,Primary_skill,Year_of_edu  = (input('Enter Details of student: '),\n",
    "                                                                          input('Enter Student name: '),input('Enter Higher Graduation: '),\n",
    "                                                                          input('Enter Primary Skill: '),input('Enter Year of Graduation: '))\n",
    "print('Enter Job Role Requirement')\n",
    "\n",
    "Enter_skill = input('Enter Skill: ')\n",
    "Enter_high_edu = input('Enter Higher Education: ')\n",
    "Enter_yr_of_edu = input('Enter Year of Graduation: ')\n",
    "\n",
    "if Primary_skill == Enter_skill and Higher_Edu == Enter_high_edu and Year_of_edu == Enter_yr_of_edu:\n",
    "    print((Name,Higher_Edu,Primary_skill,Year_of_edu))\n",
    "else:\n",
    "    print('No Such Candidate')"
   ]
  },
  {
   "cell_type": "markdown",
   "metadata": {
    "id": "l4hLvwD2BeIN"
   },
   "source": [
    "# Set"
   ]
  },
  {
   "cell_type": "markdown",
   "metadata": {
    "id": "zCX0Sk2IBfu8"
   },
   "source": [
    "### `Q1:` Write a program to find set of common elements in three lists using sets.\n",
    "```\n",
    "Input : ar1 = [1, 5, 10, 20, 40, 80]\n",
    "        ar2 = [6, 7, 20, 80, 100]\n",
    "        ar3 = [3, 4, 15, 20, 30, 70, 80, 120]\n",
    "\n",
    "Output : [80, 20]\n",
    "```"
   ]
  },
  {
   "cell_type": "code",
   "execution_count": 103,
   "metadata": {
    "id": "rqATYpBUrUQU"
   },
   "outputs": [
    {
     "data": {
      "text/plain": [
       "[80, 20]"
      ]
     },
     "execution_count": 103,
     "metadata": {},
     "output_type": "execute_result"
    }
   ],
   "source": [
    "# write your code here\n",
    "\n",
    "def common_elem(a,b,c):\n",
    "    #d = []\n",
    "    arr1 = set(a)\n",
    "    arr2 = set(b)\n",
    "    arr3 = set(b)\n",
    "\n",
    "    common = arr1.intersection(arr2,arr3)\n",
    "    d = list(common)\n",
    "    return d\n",
    "       \n",
    "a = [1, 5, 10, 20, 40, 80]\n",
    "b = [6, 7, 20, 80, 100]\n",
    "c = [3, 4, 15, 20, 30, 70, 80, 120]\n",
    "common_elem(a,b,c)"
   ]
  },
  {
   "cell_type": "markdown",
   "metadata": {
    "id": "0gOVS-0yCYrK"
   },
   "source": [
    "### `Q2:` Write a program to count unique number of vowels using sets in a given string. Lowercase and upercase vowels will be taken as different.\n",
    "\n",
    "`Input:`\n",
    "```\n",
    "Str1 = \"hands-on data science progrAm with practicals at affordable fee only with teknowell edutech\"\n",
    "```\n",
    "`Output:`\n",
    "```\n",
    "No of unique vowels-6\n",
    "```"
   ]
  },
  {
   "cell_type": "code",
   "execution_count": 115,
   "metadata": {
    "id": "0vAlEAOzDihm"
   },
   "outputs": [
    {
     "name": "stdout",
     "output_type": "stream",
     "text": [
      "No. of unique vowels - 6\n"
     ]
    }
   ],
   "source": [
    "# write your code here\n",
    "input_str = \"hands-on data science progrAm with practicals at affordable fee only with teknowell edutech\"\n",
    "\n",
    "vowels = {'a','e','i','o','u','A','E','I','O','U'}\n",
    "\n",
    "unique_vowels = set()\n",
    "\n",
    "for char in input_str:\n",
    "    if char in vowels:\n",
    "        unique_vowels.add(char)\n",
    "print('No. of unique vowels -',len(unique_vowels))\n"
   ]
  },
  {
   "cell_type": "markdown",
   "metadata": {
    "id": "fqLZxiarEne5"
   },
   "source": [
    "### `Q3:` Write a program to Check if a given string is binary string of or not.\n",
    "\n",
    "A string is said to be binary if it's consists of only two unique characters.\n",
    "\n",
    "Take string input from user.\n",
    "\n",
    "```\n",
    "Input: str = \"01010101010\"\n",
    "Output: Yes\n",
    "\n",
    "Input: str = \"1222211\"\n",
    "Output: Yes\n",
    "\n",
    "Input: str = \"Teknowell\"\n",
    "Output: No\n",
    "```"
   ]
  },
  {
   "cell_type": "code",
   "execution_count": 131,
   "metadata": {
    "id": "5M5v8LoYrXkE"
   },
   "outputs": [
    {
     "name": "stdin",
     "output_type": "stream",
     "text": [
      "Enter the number of rec:  2\n",
      "Enter the str:  1001101101\n",
      "Enter the str:  Tecknowell\n"
     ]
    },
    {
     "name": "stdout",
     "output_type": "stream",
     "text": [
      "No\n"
     ]
    }
   ],
   "source": [
    "# write your code here\n",
    "No_of_args = int(input('Enter the number of rec: '))\n",
    "for i in range(No_of_args):\n",
    "    input_str = input('Enter the str: ')\n",
    "\n",
    "\n",
    "unique_chars = set(input_str)\n",
    "\n",
    "if len(unique_chars) == 2 and ('0' in unique_chars and '1' in unique_chars):\n",
    "    print('Yes')\n",
    "else:\n",
    "    print('No')"
   ]
  },
  {
   "cell_type": "code",
   "execution_count": 151,
   "metadata": {},
   "outputs": [
    {
     "name": "stdout",
     "output_type": "stream",
     "text": [
      "Input: 01010101010 = Yes\n",
      "Input: 1222211 = Yes\n",
      "Input : Teknowell = No\n"
     ]
    }
   ],
   "source": [
    "def binary_str(input_str):\n",
    "    unique_char = set(input_str)\n",
    "\n",
    "    if len(unique_char) == 2 and ('0' in unique_char and '1' in unique_char or '2' in unique_char):\n",
    "        return True\n",
    "    else:\n",
    "        return False\n",
    "\n",
    "input = [\n",
    "    '01010101010',\n",
    "    '1222211',\n",
    "    'Teknowell'\n",
    "]\n",
    "\n",
    "for input_str in input:\n",
    "    if binary_str(input_str):\n",
    "        print(f'Input: {input_str} = Yes')\n",
    "    else:\n",
    "        print(f'Input : {input_str} = No')"
   ]
  },
  {
   "cell_type": "markdown",
   "metadata": {
    "id": "xXS8wYH1mDqx"
   },
   "source": [
    "### `Q4`: find union of n arrays.\n",
    "\n",
    "**Example 1:**\n",
    "\n",
    "Input:\n",
    "```\n",
    "[[1, 2, 2, 4, 3, 6],\n",
    " [5, 1, 3, 4],\n",
    " [9, 5, 7, 1],\n",
    " [2, 4, 1, 3]]\n",
    "```\n",
    "\n",
    "Output:\n",
    "\n",
    "```\n",
    "[1, 2, 3, 4, 5, 6, 7, 9]\n",
    "```"
   ]
  },
  {
   "cell_type": "code",
   "execution_count": 19,
   "metadata": {
    "id": "FVNyK6MbncU8"
   },
   "outputs": [
    {
     "name": "stdout",
     "output_type": "stream",
     "text": [
      "[1, 2, 3, 4, 5, 6, 7, 9]\n"
     ]
    }
   ],
   "source": [
    "# write your code here\n",
    "\n",
    "list1 = [[1, 2, 2, 4, 3, 6],\n",
    " [5, 1, 3, 4],\n",
    " [9, 5, 7, 1],\n",
    " [2, 4, 1, 3]]\n",
    "\n",
    "union_set = set()\n",
    "for i in list1:\n",
    "    set1 = set(i)\n",
    "    union_set.update(set1)\n",
    "\n",
    "print(sorted(union_set))"
   ]
  },
  {
   "cell_type": "markdown",
   "metadata": {
    "id": "T_Re21BdndOz"
   },
   "source": [
    "### `Q5`: Intersection of two lists. Intersection of two list means we need to take all those elements which are common to both of the initial lists and store them into another list. Only use using **list-comprehension**.\n",
    "\n",
    "**Example 1:**\n",
    "\n",
    "Input:\n",
    "```\n",
    "lst1 = {15, 9, 10, 56, 23, 78, 5, 4, 9}\n",
    "lst2 = {9, 4, 5, 36, 47, 26, 10, 45, 87}\n",
    "```\n",
    "\n",
    "Output:\n",
    "```\n",
    "[9, 10, 4, 5]\n",
    "```\n",
    "\n",
    "**Example 2:**\n",
    "\n",
    "Input:\n",
    "```\n",
    "lst1 = {4, 9, 1, 17, 11, 26, 28, 54, 69}\n",
    "lst2 = {9, 9, 74, 21, 45, 11, 63, 28, 26}\n",
    "```\n",
    "\n",
    "Output:\n",
    "```\n",
    "[9, 11, 26, 28]\n",
    "```"
   ]
  },
  {
   "cell_type": "code",
   "execution_count": 33,
   "metadata": {
    "id": "nWnL25ftoLVT"
   },
   "outputs": [
    {
     "data": {
      "text/plain": [
       "[{9}, {10}, {4}, {5}]"
      ]
     },
     "execution_count": 33,
     "metadata": {},
     "output_type": "execute_result"
    }
   ],
   "source": [
    "# write your code here\n",
    "\n",
    "lst1 = {15, 9, 10, 56, 23, 78, 5, 4, 9}\n",
    "lst2 = {9, 4, 5, 36, 47, 26, 10, 45, 87}\n",
    "\n",
    "[{i,j} for i,j in zip((lst1.intersection(lst2)),lst2.intersection(lst1))]\n",
    "\n",
    "# Not Completed yet"
   ]
  },
  {
   "cell_type": "markdown",
   "metadata": {
    "id": "tD2RSYn1a8oA"
   },
   "source": [
    "# Dictionary"
   ]
  },
  {
   "cell_type": "markdown",
   "metadata": {
    "id": "7tUjHhcPbQzQ"
   },
   "source": [
    "### `Q1`: Key with maximum unique values\n",
    "\n",
    "Given a dictionary with values list, extract key whose value has most unique values.\n",
    "\n",
    "**Example 1:**\n",
    "\n",
    "Input:\n",
    "\n",
    "```\n",
    "test_dict = {\"Teknowell\" : [5, 7, 9, 4, 0], \"EduTech\" : [6, 7, 4, 3, 3], \"Chinchwad\" : [9, 9, 6, 5, 5]}\n",
    "```\n",
    "\n",
    "Output:\n",
    "```\n",
    "Teknowell\n",
    "```\n",
    "\n",
    "**Example 2:**\n",
    "\n",
    "Input:\n",
    "```\n",
    "test_dict = {\"Teknowell\" : [5, 7, 7, 7, 7], \"EduTech\" : [6, 7, 7, 7], \"Chinchwad\" : [9, 9, 6, 5, 5]}\n",
    "```\n",
    "\n",
    "Output:\n",
    "```\n",
    "Chinchwad\n",
    "```"
   ]
  },
  {
   "cell_type": "code",
   "execution_count": 81,
   "metadata": {
    "id": "N8KHX863lNxL"
   },
   "outputs": [
    {
     "name": "stdout",
     "output_type": "stream",
     "text": [
      "Output: Teknowell\n"
     ]
    }
   ],
   "source": [
    "# write your code here\n",
    "test_dict = {\"Teknowell\" : [5, 7, 9, 4, 0], \"EduTech\" : [6, 7, 4, 3, 3], \"Chinchwad\" : [9, 9, 6, 5, 5]}\n",
    "\n",
    "unique_count = {i:len(set(j)) for i,j in test_dict.items()}\n",
    "\n",
    "result = max(unique_count, key = unique_count.get)\n",
    "\n",
    "print('Output:',result)"
   ]
  },
  {
   "cell_type": "markdown",
   "metadata": {
    "id": "_S5X6C84dWdJ"
   },
   "source": [
    "### `Q2`: Replace words from Dictionary. Given String, replace it’s words from lookup dictionary.\n",
    "\n",
    "**Example 1:**\n",
    "\n",
    "Input:\n",
    "\n",
    "```bash\n",
    "test_str = 'NumPy Pandas is for DS students.'\n",
    "repl_dict = {\"is\" : \"is important\", \"DS\" : \"Data-Science\"}\n",
    "```\n",
    "\n",
    "Output:\n",
    "\n",
    "```\n",
    "NumPy Pandas is important for Data-Science students.\n",
    "```\n",
    "\n",
    "**Example 2:**\n",
    "\n",
    "Input:\n",
    "```\n",
    "test_str = 'NumPy Pandas is for DS students.'\n",
    "repl_dict = {\"good\" : \"the best\", \"ds\" : \"Data-Science\"}\n",
    "```\n",
    "\n",
    "Output:\n",
    "```\n",
    "NumPy Pandas is for DS students.\n",
    "```"
   ]
  },
  {
   "cell_type": "code",
   "execution_count": 127,
   "metadata": {
    "id": "BTAQ8qnrlOxr"
   },
   "outputs": [
    {
     "name": "stdout",
     "output_type": "stream",
     "text": [
      "Output1: NumPy Pandas is important for Data-Science students.\n",
      "Output2: NumPy Pandas the best for Data-Science students.\n"
     ]
    }
   ],
   "source": [
    "# write your code here\n",
    "\n",
    "# Example 1 :-\n",
    "test_str = 'NumPy Pandas is for DS students.'\n",
    "repl_dict = {\"is\" : \"is important\", \"DS\" : \"Data-Science\"}\n",
    "\n",
    "test_list = test_str.split()\n",
    "test_list[2] = repl_dict['is']\n",
    "test_list[-2] = repl_dict['DS']\n",
    "final_1 = ' '.join(test_list)\n",
    "\n",
    "# Example 2 :- \n",
    "\n",
    "\n",
    "test_str2 = 'NumPy Pandas is for DS students.'\n",
    "repl_dict2 = {\"good\" : \"the best\", \"ds\" : \"Data-Science\"}\n",
    "\n",
    "test_list2 = test_str2.split()\n",
    "test_list2[2] = repl_dict2['good']\n",
    "test_list2[-2] = repl_dict2['ds']\n",
    "final_2 = ' '.join(test_list2)\n",
    "\n",
    "print('Output1:',final_1)\n",
    "print('Output2:',final_2)"
   ]
  },
  {
   "cell_type": "markdown",
   "metadata": {
    "id": "55xgap3zfbcR"
   },
   "source": [
    "### `Q3`: Convert List to List of dictionaries. Given list values and keys list, convert these values to key value pairs in form of list of dictionaries.\n",
    "\n",
    "**Example 1:**\n",
    "\n",
    "Input:\n",
    "```bash\n",
    "test_list = [\"DataScience\", 3, \"is\", 8]\n",
    "key_list = [\"name\", \"id\"]\n",
    "\n",
    "```\n",
    "\n",
    "Output:\n",
    "\n",
    "```bash\n",
    "[{'name': 'DataScience', 'id': 3}, {'name': 'is', 'id': 8}]\n",
    "```\n",
    "\n",
    "**Example 2:**\n",
    "\n",
    "Input:\n",
    "```bash\n",
    "test_list = [\"Mayank\", 10]\n",
    "key_list = [\"name\", \"id\"]\n",
    "\n",
    "```\n",
    "\n",
    "Output:\n",
    "\n",
    "```bash\n",
    "[{'name': 'Mayank', 'id': 10}]\n",
    "```"
   ]
  },
  {
   "cell_type": "code",
   "execution_count": 147,
   "metadata": {
    "id": "jbCajI87lQFr"
   },
   "outputs": [
    {
     "name": "stdout",
     "output_type": "stream",
     "text": [
      "Output 1: [{'name': 'DataScience', 'id': 3}]\n",
      "Output 2: [{'name': 'Mayank', 'id': 10}]\n"
     ]
    }
   ],
   "source": [
    "# write your code here\n",
    "\n",
    "# Example 1\n",
    "\n",
    "test_list = [\"DataScience\", 3, \"is\", 8]\n",
    "key_list = [\"name\", \"id\"]\n",
    "\n",
    "a = [{i:j for i,j in zip(key_list,test_list)}]\n",
    "\n",
    "# Example 2\n",
    "\n",
    "test_list = [\"Mayank\", 10]\n",
    "key_list = [\"name\", \"id\"]\n",
    "\n",
    "b = [{i:j for i,j in zip(key_list,test_list)}]\n",
    "\n",
    "print(\"Output 1:\",a)\n",
    "print('Output 2:',b)"
   ]
  },
  {
   "cell_type": "markdown",
   "metadata": {
    "id": "5RxBlLQahLkB"
   },
   "source": [
    "### `Q4`: Convert a list of Tuples into Dictionary.\n",
    "\n",
    "**Example 1:**\n",
    "\n",
    "Input:\n",
    "```bash\n",
    "[(\"akash\", 10), (\"gaurav\", 12), (\"anand\", 14), (\"suraj\", 20), (\"akhil\", 25), (\"ashish\", 30)]\n",
    "```\n",
    "\n",
    "Output:\n",
    "```bash\n",
    "{'akash': [10], 'gaurav': [12], 'anand': [14], 'suraj': [20], 'akhil': [25], 'ashish': [30]}\n",
    "```\n",
    "\n",
    "**Example 2:**\n",
    "\n",
    "Input:\n",
    "```bash\n",
    "[('A', 1), ('B', 2), ('C', 3)]\n",
    "```\n",
    "\n",
    "Output:\n",
    "```bash\n",
    "{'A': [1], 'B': [2], 'C': [3]}\n",
    "```"
   ]
  },
  {
   "cell_type": "code",
   "execution_count": 199,
   "metadata": {
    "id": "f1yz7inMlQ5N"
   },
   "outputs": [
    {
     "name": "stdout",
     "output_type": "stream",
     "text": [
      "Output1: {'akash': [10], 'gaurav': [12], 'anand': [14], 'suraj': [20], 'akhil': [25], 'ashish': [30]}\n",
      "Output2: {'A': [1], 'B': [2], 'C': [3]}\n"
     ]
    }
   ],
   "source": [
    "# write your code here\n",
    "# Example 1:-\n",
    "list1 = [(\"akash\", 10), (\"gaurav\", 12), (\"anand\", 14), (\"suraj\", 20), (\"akhil\", 25), (\"ashish\", 30)]\n",
    "a = {i:[j] for i,j in list1}\n",
    "\n",
    "# Example 2:-\n",
    "\n",
    "list2 = [('A', 1), ('B', 2), ('C', 3)]\n",
    "b = {i:[j] for i,j in list2}\n",
    "\n",
    "print(f'Output1: {a}')\n",
    "\n",
    "print(f'Output2: {b}')"
   ]
  },
  {
   "cell_type": "markdown",
   "metadata": {
    "id": "Fz8EzJD-kBkS"
   },
   "source": [
    "### `Q5`: Sort Dictionary key and values List.\n",
    "\n",
    "**Example 1:**\n",
    "\n",
    "Input:\n",
    "\n",
    "```\n",
    "{'c': [3], 'b': [12, 10], 'a': [19, 4]}\n",
    "```\n",
    "\n",
    "Output:\n",
    "\n",
    "```\n",
    "{'a': [4, 19], 'b': [10, 12], 'c': [3]}\n",
    "```\n",
    "\n",
    "**Example 2:**\n",
    "\n",
    "Input:\n",
    "\n",
    "```\n",
    "{'c': [10, 34, 3]}\n",
    "```\n",
    "\n",
    "Output:\n",
    "\n",
    "```\n",
    "{'c': [3, 10, 34]}\n",
    "```"
   ]
  },
  {
   "cell_type": "code",
   "execution_count": 276,
   "metadata": {
    "id": "x9UmJ4EQk7Pp"
   },
   "outputs": [
    {
     "name": "stdout",
     "output_type": "stream",
     "text": [
      "{'a': [19, 4], 'b': [12, 10], 'c': [3]}\n",
      "{'c': [10, 34, 3]}\n"
     ]
    }
   ],
   "source": [
    "# write your code here\n",
    "\n",
    "dict1 = {'c': [3], 'b': [12, 10], 'a': [19, 4]}\n",
    "\n",
    "a = {i:j for i,j in sorted(dict1.items())}\n",
    "print(a)\n",
    "dict2 = {'c': [10, 34, 3]}\n",
    "\n",
    "b = {i:j for i,j in sorted(dict2.items())}\n",
    "print(b)\n"
   ]
  }
 ],
 "metadata": {
  "colab": {
   "provenance": []
  },
  "kernelspec": {
   "display_name": "Python 3 (ipykernel)",
   "language": "python",
   "name": "python3"
  },
  "language_info": {
   "codemirror_mode": {
    "name": "ipython",
    "version": 3
   },
   "file_extension": ".py",
   "mimetype": "text/x-python",
   "name": "python",
   "nbconvert_exporter": "python",
   "pygments_lexer": "ipython3",
   "version": "3.11.7"
  }
 },
 "nbformat": 4,
 "nbformat_minor": 4
}
